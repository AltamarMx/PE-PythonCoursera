{
 "cells": [
  {
   "cell_type": "code",
   "execution_count": null,
   "id": "22b2b705-2dbf-473e-8194-919fca1008d8",
   "metadata": {},
   "outputs": [],
   "source": [
    "import glob as glob\n",
    "import pandas as pd\n",
    "import plotly.express as px"
   ]
  },
  {
   "cell_type": "code",
   "execution_count": null,
   "id": "1d2c57d5-0f80-4fee-bb9b-c18c1ea03b39",
   "metadata": {},
   "outputs": [],
   "source": [
    "f = \"../data/2023-RUOA-MIN.csv\"\n",
    "ruoa = pd.read_csv(f,encoding=\"ANSI\",skiprows=[0,2,3],index_col=0,dayfirst=True,parse_dates=True)\n",
    "ruoa = ruoa.reset_index()\n",
    "ruoa.columns"
   ]
  },
  {
   "cell_type": "code",
   "execution_count": null,
   "id": "d979f812-104b-4a76-9446-a905ca57fc6d",
   "metadata": {},
   "outputs": [],
   "source": [
    "ruoa"
   ]
  },
  {
   "cell_type": "code",
   "execution_count": null,
   "id": "c63126fb-9d5c-4b16-a9f9-be0b001716cd",
   "metadata": {},
   "outputs": [],
   "source": [
    "ruoa.info()"
   ]
  },
  {
   "cell_type": "code",
   "execution_count": null,
   "id": "c2e18e20-c219-4369-842a-cd92138ee855",
   "metadata": {},
   "outputs": [],
   "source": [
    "px.line(\n",
    "    data_frame=ruoa,\n",
    "    x=\"TIMESTAMP\",\n",
    "    y=\"Temp_Avg\"\n",
    ")"
   ]
  },
  {
   "cell_type": "code",
   "execution_count": null,
   "id": "bbf4acaa-f1e2-4882-aa5e-ded430f88678",
   "metadata": {},
   "outputs": [],
   "source": [
    "px.line(\n",
    "    data_frame=ruoa,\n",
    "    x=\"TIMESTAMP\",\n",
    "    y=\"Rad_Avg\"\n",
    ")"
   ]
  },
  {
   "cell_type": "code",
   "execution_count": null,
   "id": "458ac125-076a-4f59-bba2-95abba1077fa",
   "metadata": {},
   "outputs": [],
   "source": [
    "ruoa = ruoa.set_index('TIMESTAMP')                     # la pones como índice\n",
    "\n",
    "# Nos quedamos con la columna de temperatura y quitamos NaN\n",
    "temp = ruoa['Temp_Avg'].dropna()\n",
    "\n",
    "# ----------------------------\n",
    "# 2. Estadísticos por minuto del día\n",
    "# ----------------------------\n",
    "#   minuto_del_dia = 0 … 1439\n",
    "minute_of_day = temp.index.hour * 60 + temp.index.minute\n",
    "clim = (\n",
    "    temp.groupby(minute_of_day)\n",
    "        .agg(['mean', 'std', 'min', 'max'])          # promedio, σ, min, max\n",
    ")\n",
    "# clim"
   ]
  },
  {
   "cell_type": "code",
   "execution_count": null,
   "id": "e2415fdb-37fa-4461-82f5-f54cd8f7aeb6",
   "metadata": {},
   "outputs": [],
   "source": [
    "clim"
   ]
  },
  {
   "cell_type": "code",
   "execution_count": null,
   "id": "bc7472f5-a352-4b90-adcf-7eba77c73dd5",
   "metadata": {},
   "outputs": [],
   "source": [
    "px.line(\n",
    "    x=clim.index,\n",
    "    y=clim[\"mean\"]\n",
    ")"
   ]
  }
 ],
 "metadata": {
  "kernelspec": {
   "display_name": "Python 3 (ipykernel)",
   "language": "python",
   "name": "python3"
  },
  "language_info": {
   "codemirror_mode": {
    "name": "ipython",
    "version": 3
   },
   "file_extension": ".py",
   "mimetype": "text/x-python",
   "name": "python",
   "nbconvert_exporter": "python",
   "pygments_lexer": "ipython3",
   "version": "3.12.10"
  }
 },
 "nbformat": 4,
 "nbformat_minor": 5
}
